{
 "cells": [
  {
   "cell_type": "code",
   "execution_count": 2,
   "metadata": {
    "collapsed": true
   },
   "outputs": [],
   "source": [
    "from ch06 import svmMLiA"
   ]
  },
  {
   "cell_type": "code",
   "execution_count": 3,
   "metadata": {
    "collapsed": true
   },
   "outputs": [
    {
     "name": "stdout",
     "output_type": "stream",
     "text": [
      "L == H\nfullSet,iter: 0 i 0, pairs changed 0\nL == H\nfullSet,iter: 0 i 1, pairs changed 0\nfullSet,iter: 0 i 2, pairs changed 1\nfullSet,iter: 0 i 3, pairs changed 2\nj not moving enough\nfullSet,iter: 0 i 4, pairs changed 2\nj not moving enough\nfullSet,iter: 0 i 5, pairs changed 2\nj not moving enough\nfullSet,iter: 0 i 6, pairs changed 2\nfullSet,iter: 0 i 7, pairs changed 2\nfullSet,iter: 0 i 8, pairs changed 2\nfullSet,iter: 0 i 9, pairs changed 2\nfullSet,iter: 0 i 10, pairs changed 2\nfullSet,iter: 0 i 11, pairs changed 2\nfullSet,iter: 0 i 12, pairs changed 2\nfullSet,iter: 0 i 13, pairs changed 2\nfullSet,iter: 0 i 14, pairs changed 2\nj not moving enough\nfullSet,iter: 0 i 15, pairs changed 2\nfullSet,iter: 0 i 16, pairs changed 2\nfullSet,iter: 0 i 17, pairs changed 2\nj not moving enough\nfullSet,iter: 0 i 18, pairs changed 2\nfullSet,iter: 0 i 19, pairs changed 2\nfullSet,iter: 0 i 20, pairs changed 2\nfullSet,iter: 0 i 21, pairs changed 2\nj not moving enough\nfullSet,iter: 0 i 22, pairs changed 2\nfullSet,iter: 0 i 23, pairs changed 2\nfullSet,iter: 0 i 24, pairs changed 2\nj not moving enough\nfullSet,iter: 0 i 25, pairs changed 2\nj not moving enough\nfullSet,iter: 0 i 26, pairs changed 2\nfullSet,iter: 0 i 27, pairs changed 2\nfullSet,iter: 0 i 28, pairs changed 2\nfullSet,iter: 0 i 29, pairs changed 2\nfullSet,iter: 0 i 30, pairs changed 2\nj not moving enough\nfullSet,iter: 0 i 31, pairs changed 2\nj not moving enough\nfullSet,iter: 0 i 32, pairs changed 2\nfullSet,iter: 0 i 33, pairs changed 2\nj not moving enough\nfullSet,iter: 0 i 34, pairs changed 2\nfullSet,iter: 0 i 35, pairs changed 2\nfullSet,iter: 0 i 36, pairs changed 2\nfullSet,iter: 0 i 37, pairs changed 2\nfullSet,iter: 0 i 38, pairs changed 2\nfullSet,iter: 0 i 39, pairs changed 3\nfullSet,iter: 0 i 40, pairs changed 4\nfullSet,iter: 0 i 41, pairs changed 4\nfullSet,iter: 0 i 42, pairs changed 4\nfullSet,iter: 0 i 43, pairs changed 4\nfullSet,iter: 0 i 44, pairs changed 4\nfullSet,iter: 0 i 45, pairs changed 4\nL == H\nfullSet,iter: 0 i 46, pairs changed 4\nfullSet,iter: 0 i 47, pairs changed 4\nfullSet,iter: 0 i 48, pairs changed 4\nj not moving enough\nfullSet,iter: 0 i 49, pairs changed 4\nfullSet,iter: 0 i 50, pairs changed 4\nfullSet,iter: 0 i 51, pairs changed 4\nL == H\nfullSet,iter: 0 i 52, pairs changed 4\nL == H\nfullSet,iter: 0 i 53, pairs changed 4\nfullSet,iter: 0 i 54, pairs changed 5\nfullSet,iter: 0 i 55, pairs changed 6\nfullSet,iter: 0 i 56, pairs changed 7\nfullSet,iter: 0 i 57, pairs changed 8\nfullSet,iter: 0 i 58, pairs changed 8\nfullSet,iter: 0 i 59, pairs changed 8\nfullSet,iter: 0 i 60, pairs changed 9\nfullSet,iter: 0 i 61, pairs changed 9\nfullSet,iter: 0 i 62, pairs changed 9\nfullSet,iter: 0 i 63, pairs changed 9\nfullSet,iter: 0 i 64, pairs changed 9\nj not moving enough\nfullSet,iter: 0 i 65, pairs changed 9\nfullSet,iter: 0 i 66, pairs changed 9\nfullSet,iter: 0 i 67, pairs changed 9\nfullSet,iter: 0 i 68, pairs changed 9\nfullSet,iter: 0 i 69, pairs changed 9\nfullSet,iter: 0 i 70, pairs changed 9\nfullSet,iter: 0 i 71, pairs changed 9\nfullSet,iter: 0 i 72, pairs changed 9\nfullSet,iter: 0 i 73, pairs changed 9\nfullSet,iter: 0 i 74, pairs changed 9\nfullSet,iter: 0 i 75, pairs changed 9\nj not moving enough\nfullSet,iter: 0 i 76, pairs changed 9\nfullSet,iter: 0 i 77, pairs changed 9\nfullSet,iter: 0 i 78, pairs changed 9\nfullSet,iter: 0 i 79, pairs changed 9\nfullSet,iter: 0 i 80, pairs changed 9\nfullSet,iter: 0 i 81, pairs changed 9\nfullSet,iter: 0 i 82, pairs changed 9\nfullSet,iter: 0 i 83, pairs changed 9\nj not moving enough\nfullSet,iter: 0 i 84, pairs changed 9\nfullSet,iter: 0 i 85, pairs changed 9\nfullSet,iter: 0 i 86, pairs changed 9\nfullSet,iter: 0 i 87, pairs changed 9\nfullSet,iter: 0 i 88, pairs changed 9\nfullSet,iter: 0 i 89, pairs changed 9\nfullSet,iter: 0 i 90, pairs changed 9\nfullSet,iter: 0 i 91, pairs changed 9\nfullSet,iter: 0 i 92, pairs changed 9\nfullSet,iter: 0 i 93, pairs changed 9\nj not moving enough\nfullSet,iter: 0 i 94, pairs changed 9\nj not moving enough\nfullSet,iter: 0 i 95, pairs changed 9\nj not moving enough\nfullSet,iter: 0 i 96, pairs changed 9\nj not moving enough\nfullSet,iter: 0 i 97, pairs changed 9\nfullSet,iter: 0 i 98, pairs changed 9\nfullSet,iter: 0 i 99, pairs changed 9\niteration number: 1\nj not moving enough\nnon-bound,iter: 1 i 0, pairs changed 0\nj not moving enough\nnon-bound,iter: 1 i 1, pairs changed 0\nj not moving enough\nnon-bound,iter: 1 i 2, pairs changed 0\nj not moving enough\nnon-bound,iter: 1 i 39, pairs changed 0\nj not moving enough\nnon-bound,iter: 1 i 52, pairs changed 0\nnon-bound,iter: 1 i 54, pairs changed 0\niteration number: 2\nj not moving enough\nfullSet,iter: 2 i 0, pairs changed 0\nj not moving enough\nfullSet,iter: 2 i 1, pairs changed 0\nj not moving enough\nfullSet,iter: 2 i 2, pairs changed 0\nj not moving enough\nfullSet,iter: 2 i 3, pairs changed 0\nfullSet,iter: 2 i 4, pairs changed 0\nfullSet,iter: 2 i 5, pairs changed 0\nfullSet,iter: 2 i 6, pairs changed 0\nj not moving enough\nfullSet,iter: 2 i 7, pairs changed 0\nL == H\nfullSet,iter: 2 i 8, pairs changed 0\nfullSet,iter: 2 i 9, pairs changed 0\nj not moving enough\nfullSet,iter: 2 i 10, pairs changed 0\nj not moving enough\nfullSet,iter: 2 i 11, pairs changed 0\nfullSet,iter: 2 i 12, pairs changed 0\nfullSet,iter: 2 i 13, pairs changed 0\nfullSet,iter: 2 i 14, pairs changed 0\nfullSet,iter: 2 i 15, pairs changed 0\nfullSet,iter: 2 i 16, pairs changed 0\nL == H\nfullSet,iter: 2 i 17, pairs changed 0\nfullSet,iter: 2 i 18, pairs changed 0\nfullSet,iter: 2 i 19, pairs changed 0\nfullSet,iter: 2 i 20, pairs changed 0\nj not moving enough\nfullSet,iter: 2 i 21, pairs changed 0\nfullSet,iter: 2 i 22, pairs changed 0\nL == H\nfullSet,iter: 2 i 23, pairs changed 0\nj not moving enough\nfullSet,iter: 2 i 24, pairs changed 0\nfullSet,iter: 2 i 25, pairs changed 0\nfullSet,iter: 2 i 26, pairs changed 0\nj not moving enough\nfullSet,iter: 2 i 27, pairs changed 0\nfullSet,iter: 2 i 28, pairs changed 0\nL == H\nfullSet,iter: 2 i 29, pairs changed 0\nj not moving enough\nfullSet,iter: 2 i 30, pairs changed 0\nfullSet,iter: 2 i 31, pairs changed 0\nfullSet,iter: 2 i 32, pairs changed 0\nfullSet,iter: 2 i 33, pairs changed 0\nfullSet,iter: 2 i 34, pairs changed 0\nj not moving enough\nfullSet,iter: 2 i 35, pairs changed 0\nfullSet,iter: 2 i 36, pairs changed 0\nfullSet,iter: 2 i 37, pairs changed 0\nfullSet,iter: 2 i 38, pairs changed 0\nj not moving enough\nfullSet,iter: 2 i 39, pairs changed 0\nfullSet,iter: 2 i 40, pairs changed 0\nfullSet,iter: 2 i 41, pairs changed 0\nfullSet,iter: 2 i 42, pairs changed 0\nj not moving enough\nfullSet,iter: 2 i 43, pairs changed 0\nfullSet,iter: 2 i 44, pairs changed 0\nfullSet,iter: 2 i 45, pairs changed 0\nfullSet,iter: 2 i 46, pairs changed 0\nfullSet,iter: 2 i 47, pairs changed 0\nfullSet,iter: 2 i 48, pairs changed 0\nfullSet,iter: 2 i 49, pairs changed 0\nfullSet,iter: 2 i 50, pairs changed 0\nfullSet,iter: 2 i 51, pairs changed 0\nj not moving enough\nfullSet,iter: 2 i 52, pairs changed 0\nj not moving enough\nfullSet,iter: 2 i 53, pairs changed 0\nfullSet,iter: 2 i 54, pairs changed 0\nL == H\nfullSet,iter: 2 i 55, pairs changed 0\nfullSet,iter: 2 i 56, pairs changed 0\nfullSet,iter: 2 i 57, pairs changed 0\nfullSet,iter: 2 i 58, pairs changed 0\nfullSet,iter: 2 i 59, pairs changed 0\nfullSet,iter: 2 i 60, pairs changed 0\nfullSet,iter: 2 i 61, pairs changed 0\nfullSet,iter: 2 i 62, pairs changed 0\nfullSet,iter: 2 i 63, pairs changed 0\nfullSet,iter: 2 i 64, pairs changed 0\nj not moving enough\nfullSet,iter: 2 i 65, pairs changed 0"
     ]
    },
    {
     "name": "stdout",
     "output_type": "stream",
     "text": [
      "\nfullSet,iter: 2 i 66, pairs changed 0\nfullSet,iter: 2 i 67, pairs changed 0\nfullSet,iter: 2 i 68, pairs changed 0\nfullSet,iter: 2 i 69, pairs changed 0\nfullSet,iter: 2 i 70, pairs changed 0\nfullSet,iter: 2 i 71, pairs changed 0\nfullSet,iter: 2 i 72, pairs changed 0\nfullSet,iter: 2 i 73, pairs changed 0\nfullSet,iter: 2 i 74, pairs changed 0\nfullSet,iter: 2 i 75, pairs changed 0\nj not moving enough\nfullSet,iter: 2 i 76, pairs changed 0\nfullSet,iter: 2 i 77, pairs changed 0\nfullSet,iter: 2 i 78, pairs changed 0\nfullSet,iter: 2 i 79, pairs changed 0\nfullSet,iter: 2 i 80, pairs changed 0\nfullSet,iter: 2 i 81, pairs changed 0\nfullSet,iter: 2 i 82, pairs changed 0\nfullSet,iter: 2 i 83, pairs changed 0\nj not moving enough\nfullSet,iter: 2 i 84, pairs changed 0\nfullSet,iter: 2 i 85, pairs changed 0\nfullSet,iter: 2 i 86, pairs changed 0\nfullSet,iter: 2 i 87, pairs changed 0\nfullSet,iter: 2 i 88, pairs changed 0\nfullSet,iter: 2 i 89, pairs changed 0\nfullSet,iter: 2 i 90, pairs changed 0\nfullSet,iter: 2 i 91, pairs changed 0\nfullSet,iter: 2 i 92, pairs changed 0\nfullSet,iter: 2 i 93, pairs changed 0\nj not moving enough\nfullSet,iter: 2 i 94, pairs changed 0\nj not moving enough\nfullSet,iter: 2 i 95, pairs changed 0\nj not moving enough\nfullSet,iter: 2 i 96, pairs changed 0\nj not moving enough\nfullSet,iter: 2 i 97, pairs changed 0\nfullSet,iter: 2 i 98, pairs changed 0\nfullSet,iter: 2 i 99, pairs changed 0\niteration number: 3\nb =  [[-2.06657148]]\n[[ 0.06961952  0.169031    0.06546407  0.11611057  0.15514749  0.03792133]]\n[3.542485, 1.977398] -1.0\n[3.018896, 2.556416] -1.0\n[7.55151, -1.58003] 1.0\n[8.804461, 3.044301] 1.0\n[2.893743, -1.643468] -1.0\n[5.286862, -2.358286] 1.0\n"
     ]
    }
   ],
   "source": [
    "dataMat,labelMat = svmMLiA.loadDataSet('/Users/JD.K/Downloads/machinelearninginaction/Ch06/testSet.txt')\n",
    "# print(labelMat)\n",
    "# b,alphas = svmMLiA.smoSimple(dataMat,labelMat,0.6,0.001,40)\n",
    "# print('b = ',b)\n",
    "# print(alphas[alphas>0])\n",
    "# for i in range(100):\n",
    "#     if alphas[i] > 0:\n",
    "#         print(dataMat[i],labelMat[i])\n",
    "\n",
    "b,alphas = svmMLiA.smoP(dataMat,labelMat,0.6,0.001,40)\n",
    "print('b = ',b)\n",
    "print(alphas[alphas>0])\n",
    "for i in range(100):\n",
    "    if alphas[i] > 0:\n",
    "        print(dataMat[i],labelMat[i])"
   ]
  },
  {
   "cell_type": "code",
   "execution_count": 4,
   "metadata": {},
   "outputs": [],
   "source": [
    "ws = svmMLiA.calcWs(alphas,dataMat,labelMat)"
   ]
  },
  {
   "cell_type": "code",
   "execution_count": 6,
   "metadata": {},
   "outputs": [
    {
     "data": {
      "text/plain": [
       "matrix([[-2.06657148]])"
      ]
     },
     "execution_count": 6,
     "metadata": {},
     "output_type": "execute_result"
    }
   ],
   "source": [
    "b"
   ]
  },
  {
   "cell_type": "code",
   "execution_count": 5,
   "metadata": {},
   "outputs": [
    {
     "data": {
      "text/plain": [
       "list"
      ]
     },
     "execution_count": 5,
     "metadata": {},
     "output_type": "execute_result"
    }
   ],
   "source": [
    "type(dataMat)"
   ]
  },
  {
   "cell_type": "code",
   "execution_count": 7,
   "metadata": {},
   "outputs": [],
   "source": [
    "import numpy as np"
   ]
  },
  {
   "cell_type": "code",
   "execution_count": 8,
   "metadata": {},
   "outputs": [],
   "source": [
    "matrix = np.mat(dataMat)"
   ]
  },
  {
   "cell_type": "code",
   "execution_count": 9,
   "metadata": {},
   "outputs": [
    {
     "data": {
      "text/plain": [
       "matrix([[-0.56033809]])"
      ]
     },
     "execution_count": 9,
     "metadata": {},
     "output_type": "execute_result"
    }
   ],
   "source": [
    "matrix[0]*np.mat(ws)+b"
   ]
  },
  {
   "cell_type": "code",
   "execution_count": 10,
   "metadata": {},
   "outputs": [
    {
     "data": {
      "text/plain": [
       "matrix([[ 2.03782213]])"
      ]
     },
     "execution_count": 10,
     "metadata": {},
     "output_type": "execute_result"
    }
   ],
   "source": [
    "matrix[2]*np.mat(ws)+b"
   ]
  },
  {
   "cell_type": "code",
   "execution_count": 11,
   "metadata": {},
   "outputs": [
    {
     "data": {
      "text/plain": [
       "matrix([[-0.91730498]])"
      ]
     },
     "execution_count": 11,
     "metadata": {},
     "output_type": "execute_result"
    }
   ],
   "source": [
    "matrix[1]*np.mat(ws)+b"
   ]
  },
  {
   "cell_type": "code",
   "execution_count": 12,
   "metadata": {},
   "outputs": [
    {
     "ename": "AttributeError",
     "evalue": "module 'ch06.svmMLiA' has no attribute 'testRbf'",
     "traceback": [
      "\u001b[0;31m---------------------------------------------------------------------------\u001b[0m",
      "\u001b[0;31mAttributeError\u001b[0m                            Traceback (most recent call last)",
      "\u001b[0;32m<ipython-input-12-b50061ef58cf>\u001b[0m in \u001b[0;36m<module>\u001b[0;34m()\u001b[0m\n\u001b[0;32m----> 1\u001b[0;31m \u001b[0msvmMLiA\u001b[0m\u001b[0;34m.\u001b[0m\u001b[0mtestRbf\u001b[0m\u001b[0;34m(\u001b[0m\u001b[0;34m)\u001b[0m\u001b[0;34m\u001b[0m\u001b[0m\n\u001b[0m",
      "\u001b[0;31mAttributeError\u001b[0m: module 'ch06.svmMLiA' has no attribute 'testRbf'"
     ],
     "output_type": "error"
    }
   ],
   "source": [
    "svmMLiA.testRbf()"
   ]
  },
  {
   "cell_type": "code",
   "execution_count": null,
   "metadata": {},
   "outputs": [],
   "source": [
    ""
   ]
  }
 ],
 "metadata": {
  "kernelspec": {
   "display_name": "Python 2",
   "language": "python",
   "name": "python2"
  },
  "language_info": {
   "codemirror_mode": {
    "name": "ipython",
    "version": 2.0
   },
   "file_extension": ".py",
   "mimetype": "text/x-python",
   "name": "python",
   "nbconvert_exporter": "python",
   "pygments_lexer": "ipython2",
   "version": "2.7.6"
  }
 },
 "nbformat": 4,
 "nbformat_minor": 0
}